{
 "cells": [
  {
   "cell_type": "code",
   "execution_count": 7,
   "id": "1a58eaec-d94a-4827-9498-989d549988b3",
   "metadata": {},
   "outputs": [
    {
     "ename": "ModuleNotFoundError",
     "evalue": "No module named 'matplotlib'",
     "output_type": "error",
     "traceback": [
      "\u001b[31m---------------------------------------------------------------------------\u001b[39m",
      "\u001b[31mModuleNotFoundError\u001b[39m                       Traceback (most recent call last)",
      "\u001b[36mCell\u001b[39m\u001b[36m \u001b[39m\u001b[32mIn[7]\u001b[39m\u001b[32m, line 2\u001b[39m\n\u001b[32m      1\u001b[39m \u001b[38;5;28;01mimport\u001b[39;00m\u001b[38;5;250m \u001b[39m\u001b[34;01mnumpy\u001b[39;00m\u001b[38;5;250m \u001b[39m\u001b[38;5;28;01mas\u001b[39;00m\u001b[38;5;250m \u001b[39m\u001b[34;01mnp\u001b[39;00m\n\u001b[32m----> \u001b[39m\u001b[32m2\u001b[39m \u001b[38;5;28;01mimport\u001b[39;00m\u001b[38;5;250m \u001b[39m\u001b[34;01mmatplotlib\u001b[39;00m\u001b[34;01m.\u001b[39;00m\u001b[34;01mpyplot\u001b[39;00m\u001b[38;5;250m \u001b[39m\u001b[38;5;28;01mas\u001b[39;00m\u001b[38;5;250m \u001b[39m\u001b[34;01mplt\u001b[39;00m\n",
      "\u001b[31mModuleNotFoundError\u001b[39m: No module named 'matplotlib'"
     ]
    }
   ],
   "source": [
    "import numpy as np\n",
    "import matplotlib.pyplot as plt"
   ]
  },
  {
   "cell_type": "code",
   "execution_count": null,
   "id": "6fe59f12-795d-475e-b56b-83a025b9306a",
   "metadata": {},
   "outputs": [],
   "source": [
    "data = np.random.binomial(n=10, p=0.5, size=500)\n",
    "mean_simulated = np.mean(data)"
   ]
  },
  {
   "cell_type": "code",
   "execution_count": 3,
   "id": "3e690590-f8eb-4a41-83a1-96e6a93cebf5",
   "metadata": {},
   "outputs": [
    {
     "data": {
      "text/plain": [
       "array([ 7,  4,  3,  3,  4,  7,  4,  5,  4,  4,  4,  5,  3,  3,  5,  5,  4,\n",
       "        7,  3,  5,  7,  4,  5,  6,  7,  3,  7,  5,  4,  1,  4,  3,  7,  4,\n",
       "        4,  7,  3,  4,  5,  6,  5,  5,  8,  8,  5,  6,  4,  4,  6,  4,  5,\n",
       "        6,  5,  5,  5,  4,  3,  6,  4,  4,  7,  6,  6,  4,  5,  5,  4,  6,\n",
       "        6,  6,  7,  5,  5,  4,  3,  4,  5,  6,  2,  7,  6,  4,  5,  5,  3,\n",
       "        5,  7,  4,  3,  8,  3,  5,  6,  5,  4,  8,  4,  4,  6,  6,  6,  4,\n",
       "        4,  4,  5,  6,  8,  3,  4,  3,  4,  6,  5,  6,  4,  4,  5,  2,  6,\n",
       "        8,  3,  6,  4,  8,  4,  4,  6,  5,  3,  4,  7,  5,  4,  4,  6,  6,\n",
       "        6,  3,  4,  6,  6,  8,  5,  7,  3,  6,  5,  5,  3,  3,  6,  5,  2,\n",
       "        4,  1,  5,  5,  4,  5,  5,  3,  6,  5,  3,  4,  7,  4,  2,  4,  6,\n",
       "        5,  3,  6,  5,  6,  6,  5,  5,  6,  3,  5,  4,  5,  6,  5,  5,  4,\n",
       "        4,  6,  5,  7,  3,  3,  4,  5,  4,  5,  4,  4,  5,  4,  8,  4,  4,\n",
       "        3,  3,  5,  5,  4,  4,  6,  3,  2,  6,  3,  6,  6,  7,  7,  5,  5,\n",
       "        7,  9,  4,  4,  7,  7,  5,  3,  5,  4,  7,  2,  6,  7,  5,  5,  5,\n",
       "        1,  4,  4,  7,  3,  7,  8,  3,  6,  5,  3,  6,  4,  5,  7,  8,  3,\n",
       "        7,  3,  5,  5,  8,  5,  3,  5,  6,  3,  3,  6,  5,  7,  7,  3,  6,\n",
       "        5,  8,  6,  4,  6,  4,  6,  3,  5,  4,  3,  4,  4,  6,  6,  2,  5,\n",
       "        7,  5,  5,  3,  6,  3,  3,  6,  5,  4,  7,  4,  5,  5,  6,  6,  6,\n",
       "        4,  6,  7,  1,  5,  3,  2,  4,  7,  3,  5,  6,  6,  2,  3,  1,  6,\n",
       "        5,  2,  5,  5,  5,  4,  6,  5,  5,  5,  6,  7,  6,  7,  6,  5,  6,\n",
       "        5,  3,  2,  5,  4,  4,  5,  5,  3,  6,  3,  7,  9,  5,  4,  3,  4,\n",
       "        8,  5,  5,  3,  6,  4,  5,  4,  3,  5,  6,  7,  5,  3,  2,  4,  4,\n",
       "        8,  6,  6,  7,  4,  4,  4,  5,  2,  3,  4,  7,  6,  6,  6,  3,  6,\n",
       "        6,  2,  4,  7,  6,  2,  6,  3,  4,  4,  6,  2,  5,  5,  3,  5,  2,\n",
       "        8,  6,  5,  4,  4,  6,  4,  5,  7,  5,  7,  5,  5,  4,  3,  4,  9,\n",
       "        5,  8,  5,  6,  6,  5,  5,  7,  6,  8,  2,  4,  7,  5,  8,  3,  2,\n",
       "        3, 10,  3,  5,  3,  5,  6,  3,  6,  6,  3,  4,  4,  6,  4,  7,  7,\n",
       "        3,  5,  5,  7,  7,  4,  6,  5,  7,  4,  4,  7,  6,  5,  3,  4,  5,\n",
       "        4,  4,  5,  6,  4,  4,  6,  3,  4,  6,  2,  5,  6,  5,  6,  6,  3,\n",
       "        6,  6,  3,  6,  6,  5,  6,  5,  5,  6,  6,  4,  1,  5,  5,  6,  2,\n",
       "        6,  6,  2,  4,  5,  3,  8,  5,  6,  5,  5,  5,  5,  5,  7,  4,  2,\n",
       "        5,  3,  7,  4,  4,  4,  6,  4,  2,  5,  9,  4,  3,  4,  7,  5,  7,\n",
       "        4,  3,  6,  3,  6,  7,  4,  6,  5,  6,  5,  5,  3,  5,  2,  5,  2,\n",
       "        3,  5,  3,  6,  3,  5,  9,  4,  8,  7,  5,  6,  3,  5,  4,  4,  8,\n",
       "        1,  4,  4,  4,  6,  3,  4,  5,  5,  6,  8,  6,  3,  5,  5,  4,  5,\n",
       "        3,  5,  5,  4,  7,  5,  6,  6,  5,  6,  4,  5,  4,  3,  4,  7,  5,\n",
       "        4,  4,  5,  6,  6,  6,  7,  7,  4,  4,  5,  8,  5,  2,  3,  6,  6,\n",
       "        4,  7,  7,  3,  3,  5, 10,  4,  7,  3,  5,  4,  4,  5,  7,  4,  3,\n",
       "        6,  8,  2,  8,  4,  2,  6,  5,  5,  5,  5,  5,  9,  5,  4,  5,  7,\n",
       "        6,  6,  6,  2,  4,  4,  2,  7,  6,  7,  3,  5,  4,  4,  3,  5,  5,\n",
       "        7,  5,  7,  4,  3,  7,  5,  4,  6,  6,  4,  4,  2,  7,  4,  4,  5,\n",
       "        4,  7,  8,  5,  6,  5,  5,  6,  3,  6,  6,  6,  7,  3,  4,  6,  1,\n",
       "        4,  5,  3,  7,  7,  5,  4,  4,  4,  4,  3,  5,  4,  5,  7,  8,  4,\n",
       "        6,  6,  5,  2,  7,  8,  6,  3,  4,  7,  5,  7,  3,  5,  6,  5,  5,\n",
       "        4,  7,  6,  4,  3,  4,  7,  7,  6,  7,  5,  4,  4,  7,  5,  4,  4,\n",
       "        6,  6,  5,  4,  5,  5,  5,  4,  5,  4,  5,  2,  4,  9,  3,  4,  4,\n",
       "        5,  4,  6,  4,  1,  6,  4,  8,  2,  7,  7,  4,  7,  5,  7,  6,  7,\n",
       "        4,  8,  3,  6,  4,  7,  6,  4,  6,  6,  3,  8,  5,  5,  3,  5,  5,\n",
       "        5,  4,  4,  3,  4,  5,  8,  7,  4,  7,  6,  2,  4,  7,  5,  3,  6,\n",
       "        9,  3,  6,  7,  6,  6,  5,  4,  4,  9,  2,  4,  2,  2,  8,  5,  6,\n",
       "        6,  6,  5,  5,  8,  5,  7,  6,  5,  5,  4,  3,  5,  5,  3,  4,  7,\n",
       "        7,  4,  7,  4,  5,  5,  3,  8,  8,  5,  4,  4,  5,  7,  4,  3,  6,\n",
       "        3,  6,  4,  4,  6,  5,  6,  4,  3,  5,  5,  6,  7,  3,  3,  6,  8,\n",
       "        3,  3,  7,  6,  7,  5,  3,  4,  5,  7,  6,  9,  8,  5,  6,  2,  6,\n",
       "        4,  3,  4,  8,  5,  4,  2,  3,  6,  9,  4,  2,  2,  5,  3,  3,  4,\n",
       "        5,  5,  5,  7,  4,  3,  4,  5,  5,  4,  6,  4,  5,  7,  2,  6,  6,\n",
       "        5,  6,  6,  6,  2,  4,  2,  4,  6,  5,  3,  7,  5,  3,  5,  5,  6,\n",
       "        5,  9,  7,  4,  4,  5,  6,  4,  2,  5,  4,  5,  4,  4,  8,  4,  5,\n",
       "        4,  3,  8,  3,  5,  1,  3,  5,  3,  5,  3,  5,  7,  9])"
      ]
     },
     "execution_count": 3,
     "metadata": {},
     "output_type": "execute_result"
    }
   ],
   "source": [
    "data"
   ]
  },
  {
   "cell_type": "code",
   "execution_count": 11,
   "id": "eba04d89-20b8-4ad3-adb0-81edbcb5e984",
   "metadata": {},
   "outputs": [
    {
     "ename": "NameError",
     "evalue": "name 'plt' is not defined",
     "output_type": "error",
     "traceback": [
      "\u001b[31m---------------------------------------------------------------------------\u001b[39m",
      "\u001b[31mNameError\u001b[39m                                 Traceback (most recent call last)",
      "\u001b[36mCell\u001b[39m\u001b[36m \u001b[39m\u001b[32mIn[11]\u001b[39m\u001b[32m, line 1\u001b[39m\n\u001b[32m----> \u001b[39m\u001b[32m1\u001b[39m \u001b[43mplt\u001b[49m.hist(data, bins=\u001b[38;5;28mrange\u001b[39m(\u001b[32m12\u001b[39m), density=\u001b[38;5;28;01mTrue\u001b[39;00m, alpha=\u001b[32m0.7\u001b[39m, color=\u001b[33m'\u001b[39m\u001b[33mblue\u001b[39m\u001b[33m'\u001b[39m, edgecolor=\u001b[33m'\u001b[39m\u001b[33mblack\u001b[39m\u001b[33m'\u001b[39m)\n\u001b[32m      2\u001b[39m plt.xlabel(\u001b[33m\"\u001b[39m\u001b[33mNumber of Successes\u001b[39m\u001b[33m\"\u001b[39m)\n\u001b[32m      3\u001b[39m plt.ylabel(\u001b[33m\"\u001b[39m\u001b[33mProbability Density\u001b[39m\u001b[33m\"\u001b[39m)\n",
      "\u001b[31mNameError\u001b[39m: name 'plt' is not defined"
     ]
    }
   ],
   "source": [
    "plt.hist(data, bins=range(12), density=True, alpha=0.7, color='blue', edgecolor='black')\n",
    "plt.xlabel(\"Number of Successes\")\n",
    "plt.ylabel(\"Probability Density\")\n",
    "plt.title(\"Binomial Distribution (n=10, p=0.5, 500 trials)\")\n",
    "plt.grid(axis='y', linestyle='--', alpha=0.7)\n",
    "plt.show()"
   ]
  },
  {
   "cell_type": "code",
   "execution_count": 5,
   "id": "d314122d-5cdc-4a70-85b5-b2c18934ec81",
   "metadata": {},
   "outputs": [
    {
     "name": "stdout",
     "output_type": "stream",
     "text": [
      "Simulated Mean: 4.925\n"
     ]
    }
   ],
   "source": [
    "print(\"Simulated Mean:\", mean_simulated)"
   ]
  }
 ],
 "metadata": {
  "kernelspec": {
   "display_name": "Python 3",
   "language": "python",
   "name": "python3"
  },
  "language_info": {
   "codemirror_mode": {
    "name": "ipython",
    "version": 3
   },
   "file_extension": ".py",
   "mimetype": "text/x-python",
   "name": "python",
   "nbconvert_exporter": "python",
   "pygments_lexer": "ipython3",
   "version": "3.12.4"
  }
 },
 "nbformat": 4,
 "nbformat_minor": 5
}
