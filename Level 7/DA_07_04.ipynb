{
 "cells": [
  {
   "cell_type": "code",
   "execution_count": 8,
   "id": "ce5fd4cb-3768-44d7-a73b-099d080f72f2",
   "metadata": {},
   "outputs": [],
   "source": [
    "import scipy.stats as\n",
    "stats\n"
   ]
  },
  {
   "cell_type": "code",
   "execution_count": 9,
   "id": "f016ec94-248b-47aa-aff2-40659e2abf22",
   "metadata": {},
   "outputs": [],
   "source": [
    "observed = [121, 288, 91]  \n",
    "expected = [500 * 0.2, 500 * 0.3, 500 * 0.5]  \n"
   ]
  },
  {
   "cell_type": "code",
   "execution_count": 10,
   "id": "ec296421-7c0f-47fa-94a4-ea2baef2d6c9",
   "metadata": {},
   "outputs": [],
   "source": [
    "chi_square_stat, p_value = stats.chisquare(observed, expected)\n"
   ]
  },
  {
   "cell_type": "code",
   "execution_count": 11,
   "id": "f4d77bcb-26ad-4a8f-9ddd-108713521253",
   "metadata": {},
   "outputs": [],
   "source": [
    "alpha = 0.05  \n",
    "\n",
    "if p_value < alpha:\n",
    "    result = \"Reject H₀; age distribution changed.\"\n",
    "else:\n",
    "    result = \"Fail to reject H₀; no significant change in age distribution.\"\n"
   ]
  },
  {
   "cell_type": "code",
   "execution_count": 12,
   "id": "5239584e-76c3-447d-887c-7361b20c7bca",
   "metadata": {},
   "outputs": [
    {
     "name": "stdout",
     "output_type": "stream",
     "text": [
      "Chi-Square Statistic: 232.49\n",
      "P-value: 0.00000\n",
      "Reject H₀; age distribution changed.\n"
     ]
    }
   ],
   "source": [
    "print(f\"Chi-Square Statistic: {chi_square_stat:.2f}\")\n",
    "print(f\"P-value: {p_value:.5f}\")\n",
    "print(result)\n"
   ]
  },
  {
   "cell_type": "code",
   "execution_count": null,
   "id": "45be65a9-8c6e-4f2f-8b67-0a0485fd34f8",
   "metadata": {},
   "outputs": [],
   "source": []
  }
 ],
 "metadata": {
  "kernelspec": {
   "display_name": "Python 3 (ipykernel)",
   "language": "python",
   "name": "python3"
  },
  "language_info": {
   "codemirror_mode": {
    "name": "ipython",
    "version": 3
   },
   "file_extension": ".py",
   "mimetype": "text/x-python",
   "name": "python",
   "nbconvert_exporter": "python",
   "pygments_lexer": "ipython3",
   "version": "3.12.7"
  }
 },
 "nbformat": 4,
 "nbformat_minor": 5
}
