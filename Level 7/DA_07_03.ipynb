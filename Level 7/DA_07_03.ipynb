{
 "cells": [
  {
   "cell_type": "code",
   "execution_count": 7,
   "id": "54523cf3-fc0a-4740-9b79-d731db5b43c6",
   "metadata": {},
   "outputs": [],
   "source": [
    "import numpy as np\n",
    "import scipy.stats as stats\n"
   ]
  },
  {
   "cell_type": "code",
   "execution_count": 8,
   "id": "9c837183-0d31-46ec-aa78-b561862a193f",
   "metadata": {},
   "outputs": [],
   "source": [
    "pop_mean = 100  \n",
    "sample_size = 30  \n",
    "sample_mean = 140\n",
    "sample_std = 20  \n",
    "alpha = 0.05  \n"
   ]
  },
  {
   "cell_type": "code",
   "execution_count": 9,
   "id": "0747318d-5db6-4507-ab50-9fdf36298168",
   "metadata": {},
   "outputs": [],
   "source": [
    "np.random.seed(42)  \n",
    "sample_data = np.random.normal(sample_mean, sample_std, sample_size)\n"
   ]
  },
  {
   "cell_type": "code",
   "execution_count": 10,
   "id": "ddfaeaa1-bcae-4d60-8bf7-08f5211220f4",
   "metadata": {},
   "outputs": [],
   "source": [
    "t_stat, p_value = stats.ttest_1samp(sample_data, popmean=pop_mean)\n"
   ]
  },
  {
   "cell_type": "code",
   "execution_count": 11,
   "id": "101f2d20-a815-4b33-abdf-10a4d7c62154",
   "metadata": {},
   "outputs": [],
   "source": [
    "if p_value < alpha:\n",
    "    result = \"Reject H₀; medication increases IQ (mean = 140 > 100).\"\n",
    "else:\n",
    "    result = \"Fail to reject H₀; no significant effect.\"\n"
   ]
  },
  {
   "cell_type": "code",
   "execution_count": 12,
   "id": "5b9b766c-33bd-47f0-abc8-d60bd19b8451",
   "metadata": {},
   "outputs": [
    {
     "name": "stdout",
     "output_type": "stream",
     "text": [
      "T-score: 11.03\n",
      "P-value: 0.00000\n",
      "Reject H₀; medication increases IQ (mean = 140 > 100).\n"
     ]
    }
   ],
   "source": [
    "print(f\"T-score: {t_stat:.2f}\")\n",
    "print(f\"P-value: {p_value:.5f}\")\n",
    "print(result)\n"
   ]
  },
  {
   "cell_type": "code",
   "execution_count": null,
   "id": "ba0c950b-33c5-4cfd-ae8e-c0aa6c27d0b9",
   "metadata": {},
   "outputs": [],
   "source": []
  }
 ],
 "metadata": {
  "kernelspec": {
   "display_name": "Python 3 (ipykernel)",
   "language": "python",
   "name": "python3"
  },
  "language_info": {
   "codemirror_mode": {
    "name": "ipython",
    "version": 3
   },
   "file_extension": ".py",
   "mimetype": "text/x-python",
   "name": "python",
   "nbconvert_exporter": "python",
   "pygments_lexer": "ipython3",
   "version": "3.12.7"
  }
 },
 "nbformat": 4,
 "nbformat_minor": 5
}
