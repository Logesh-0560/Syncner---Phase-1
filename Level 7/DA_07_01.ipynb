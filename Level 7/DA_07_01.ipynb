{
 "cells": [
  {
   "cell_type": "code",
   "execution_count": 1,
   "id": "f605dca9-9315-4ad3-b5ef-eaff1efe30e6",
   "metadata": {},
   "outputs": [],
   "source": [
    "import numpy as np\n",
    "import statsmodels.stats.weightstats as st\n"
   ]
  },
  {
   "cell_type": "code",
   "execution_count": 9,
   "id": "94de0201-dc1e-4a74-a1ad-30a678a6eb52",
   "metadata": {},
   "outputs": [],
   "source": [
    "population_mean = 100\n",
    "population_std = 15    "
   ]
  },
  {
   "cell_type": "code",
   "execution_count": 10,
   "id": "73f8efd9-63e6-4f6a-832f-19b4b429ec78",
   "metadata": {},
   "outputs": [],
   "source": [
    "sample_size = 30  \n",
    "sample_mean = 140 \n",
    "alpha = 0.05  "
   ]
  },
  {
   "cell_type": "code",
   "execution_count": 11,
   "id": "cf7dfee8-f0c9-4b96-9e78-72577c1e55ca",
   "metadata": {},
   "outputs": [],
   "source": [
    "np.random.seed(42)  \n",
    "sample_data = np.random.normal(sample_mean, population_std, sample_size)\n"
   ]
  },
  {
   "cell_type": "code",
   "execution_count": 12,
   "id": "10a387ef-ca47-41df-b538-8cffadfd45ae",
   "metadata": {},
   "outputs": [],
   "source": [
    "z_stat, p_value = st.ztest(sample_data, value=population_mean)\n"
   ]
  },
  {
   "cell_type": "code",
   "execution_count": 13,
   "id": "f1334071-aa43-4781-9a9e-3546c0deaf6b",
   "metadata": {},
   "outputs": [],
   "source": [
    "if p_value < alpha:\n",
    "    result = \"Reject H₀; medication affects IQ, likely increasing it.\"\n",
    "else:\n",
    "    result = \"Fail to reject H₀; no significant effect.\"\n"
   ]
  },
  {
   "cell_type": "code",
   "execution_count": 14,
   "id": "e49cdecb-213e-4ac1-8a19-fd3deb276e4e",
   "metadata": {},
   "outputs": [
    {
     "name": "stdout",
     "output_type": "stream",
     "text": [
      "Z-score: 15.08\n",
      "P-value: 0.00000\n",
      "Reject H₀; medication affects IQ, likely increasing it.\n"
     ]
    }
   ],
   "source": [
    "print(f\"Z-score: {z_stat:.2f}\")\n",
    "print(f\"P-value: {p_value:.5f}\")\n",
    "print(result)\n"
   ]
  },
  {
   "cell_type": "code",
   "execution_count": null,
   "id": "9fcbb134-1b45-4d9b-94c5-e51ed61cefee",
   "metadata": {},
   "outputs": [],
   "source": []
  }
 ],
 "metadata": {
  "kernelspec": {
   "display_name": "Python 3 (ipykernel)",
   "language": "python",
   "name": "python3"
  },
  "language_info": {
   "codemirror_mode": {
    "name": "ipython",
    "version": 3
   },
   "file_extension": ".py",
   "mimetype": "text/x-python",
   "name": "python",
   "nbconvert_exporter": "python",
   "pygments_lexer": "ipython3",
   "version": "3.12.7"
  }
 },
 "nbformat": 4,
 "nbformat_minor": 5
}
