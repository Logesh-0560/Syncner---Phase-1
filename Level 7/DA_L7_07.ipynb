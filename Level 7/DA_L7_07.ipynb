{
 "cells": [
  {
   "cell_type": "code",
   "execution_count": 2,
   "id": "3e02f233-21c7-48d2-9303-9b8eebb28ac8",
   "metadata": {},
   "outputs": [],
   "source": [
    "import numpy as np"
   ]
  },
  {
   "cell_type": "code",
   "execution_count": 3,
   "id": "4ef8017e-ce96-4679-aefc-69a00c6c8942",
   "metadata": {},
   "outputs": [],
   "source": [
    "trials = np.random.binomial(n=1, p=0.3, size=1000)\n",
    "simulated_probability = np.mean(trials)"
   ]
  },
  {
   "cell_type": "code",
   "execution_count": 4,
   "id": "c00f162d-b6af-419e-a0ea-f271fe953e1e",
   "metadata": {},
   "outputs": [
    {
     "data": {
      "text/plain": [
       "0.305"
      ]
     },
     "execution_count": 4,
     "metadata": {},
     "output_type": "execute_result"
    }
   ],
   "source": [
    "simulated_probability"
   ]
  }
 ],
 "metadata": {
  "kernelspec": {
   "display_name": "Python 3 (ipykernel)",
   "language": "python",
   "name": "python3"
  },
  "language_info": {
   "codemirror_mode": {
    "name": "ipython",
    "version": 3
   },
   "file_extension": ".py",
   "mimetype": "text/x-python",
   "name": "python",
   "nbconvert_exporter": "python",
   "pygments_lexer": "ipython3",
   "version": "3.12.7"
  }
 },
 "nbformat": 4,
 "nbformat_minor": 5
}
