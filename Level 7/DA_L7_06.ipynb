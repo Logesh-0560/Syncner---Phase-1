{
 "cells": [
  {
   "cell_type": "code",
   "execution_count": 1,
   "id": "b256155a-3cfa-4219-8e19-d40fb4a93361",
   "metadata": {},
   "outputs": [
    {
     "name": "stdout",
     "output_type": "stream",
     "text": [
      "The array for the given height and the weight : (array([160, 170, 180, 175]), array([60, 70, 75, 65]))\n"
     ]
    }
   ],
   "source": [
    "import numpy as np\n",
    "\n",
    "height = np.array([160, 170, 180, 175])\n",
    "weight = np.array([60, 70, 75, 65])\n",
    "\n",
    "print(f\"The array for the given height and the weight : {height,weight}\")\n"
   ]
  },
  {
   "cell_type": "code",
   "execution_count": 2,
   "id": "d53b5ff4-503b-4043-8387-01864187ee54",
   "metadata": {},
   "outputs": [],
   "source": [
    "from scipy.stats import pearsonr, spearmanr\n",
    "\n",
    "pearson_corr, _ = pearsonr(height, weight)\n",
    "spearman_corr, _ = spearmanr(height, weight)"
   ]
  },
  {
   "cell_type": "code",
   "execution_count": 3,
   "id": "d066d1c8-4c9c-47bf-b1ca-e30e1c924f5d",
   "metadata": {},
   "outputs": [
    {
     "data": {
      "text/plain": [
       "(0.8315218406203, 0.7999999999999999)"
      ]
     },
     "execution_count": 3,
     "metadata": {},
     "output_type": "execute_result"
    }
   ],
   "source": [
    "pearson_corr, spearman_corr"
   ]
  }
 ],
 "metadata": {
  "kernelspec": {
   "display_name": "Python 3 (ipykernel)",
   "language": "python",
   "name": "python3"
  },
  "language_info": {
   "codemirror_mode": {
    "name": "ipython",
    "version": 3
   },
   "file_extension": ".py",
   "mimetype": "text/x-python",
   "name": "python",
   "nbconvert_exporter": "python",
   "pygments_lexer": "ipython3",
   "version": "3.12.7"
  }
 },
 "nbformat": 4,
 "nbformat_minor": 5
}
