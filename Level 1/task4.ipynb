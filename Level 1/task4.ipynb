{
 "cells": [
  {
   "cell_type": "code",
   "execution_count": 1,
   "id": "4338fd68-fbd9-470b-b620-3661a6d2f161",
   "metadata": {},
   "outputs": [
    {
     "name": "stdout",
     "output_type": "stream",
     "text": [
      "{}\n"
     ]
    }
   ],
   "source": [
    "dic={}\n",
    "print(dic)"
   ]
  },
  {
   "cell_type": "code",
   "execution_count": 4,
   "id": "7f148f64-6be5-4bbd-9bf2-b51a810965ff",
   "metadata": {},
   "outputs": [
    {
     "name": "stdin",
     "output_type": "stream",
     "text": [
      "enter variable name = lk\n",
      "enter variable value= 65\n",
      "enter variable name = jh\n",
      "enter variable value= 45\n",
      "enter variable name = gf\n",
      "enter variable value= 85\n"
     ]
    },
    {
     "name": "stdout",
     "output_type": "stream",
     "text": [
      "{'gf': 85}\n"
     ]
    }
   ],
   "source": [
    "my_dict={}\n",
    "for i in range(3):\n",
    "    a=input(\"enter variable name =\")\n",
    "    b=int(input(\"enter variable value=\"))\n",
    "my_dict[a]=b\n",
    "print(my_dict)"
   ]
  },
  {
   "cell_type": "code",
   "execution_count": 6,
   "id": "e1229e53-1dbc-459e-91a4-87e69385aa81",
   "metadata": {},
   "outputs": [
    {
     "name": "stdin",
     "output_type": "stream",
     "text": [
      "enter variable name = jk\n",
      "enter variable value= 90\n",
      "enter variable name = ki\n",
      "enter variable value= 80\n",
      "enter variable name = yh\n",
      "enter variable value= 70\n"
     ]
    },
    {
     "name": "stdout",
     "output_type": "stream",
     "text": [
      "{'jk': 90, 'ki': 80, 'yh': 70}\n"
     ]
    }
   ],
   "source": [
    "my_dict={}\n",
    "for i in range(3):\n",
    "    a=input(\"enter variable name =\")\n",
    "    b=int(input(\"enter variable value=\"))\n",
    "    if a in my_dict:\n",
    "        my_dict[a].append(b)\n",
    "    else:\n",
    "        my_dict[a]=b\n",
    "my_dict[a]=b\n",
    "print(my_dict)"
   ]
  },
  {
   "cell_type": "code",
   "execution_count": null,
   "id": "6becd2ad-6d52-4b6a-986b-ab0d6537f93f",
   "metadata": {},
   "outputs": [],
   "source": []
  }
 ],
 "metadata": {
  "kernelspec": {
   "display_name": "Python 3 (ipykernel)",
   "language": "python",
   "name": "python3"
  },
  "language_info": {
   "codemirror_mode": {
    "name": "ipython",
    "version": 3
   },
   "file_extension": ".py",
   "mimetype": "text/x-python",
   "name": "python",
   "nbconvert_exporter": "python",
   "pygments_lexer": "ipython3",
   "version": "3.12.7"
  }
 },
 "nbformat": 4,
 "nbformat_minor": 5
}
