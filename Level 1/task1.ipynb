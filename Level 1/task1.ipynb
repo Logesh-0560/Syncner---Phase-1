{
 "cells": [
  {
   "cell_type": "code",
   "execution_count": 4,
   "id": "ba407d3b-4bc9-415c-b76c-d70665b32cf7",
   "metadata": {},
   "outputs": [],
   "source": [
    "TASK 1\n"
   ]
  },
  {
   "cell_type": "code",
   "execution_count": 5,
   "id": "431894fc-a5c6-4935-a778-9c268dc37b60",
   "metadata": {},
   "outputs": [
    {
     "name": "stdout",
     "output_type": "stream",
     "text": [
      "Hello python\n"
     ]
    }
   ],
   "source": [
    "print(\"Hello python\")"
   ]
  },
  {
   "cell_type": "code",
   "execution_count": 6,
   "id": "ed2aca63-51e1-4b6a-a6e4-694fa64006a2",
   "metadata": {},
   "outputs": [
    {
     "name": "stdout",
     "output_type": "stream",
     "text": [
      "8\n"
     ]
    }
   ],
   "source": [
    "a=5\n",
    "b=3\n",
    "print(a+b)"
   ]
  },
  {
   "cell_type": "code",
   "execution_count": 8,
   "id": "c5a94d6c-98b2-475c-8fe1-3164a36c53d1",
   "metadata": {},
   "outputs": [
    {
     "name": "stdout",
     "output_type": "stream",
     "text": [
      "[1, 2, 3]\n"
     ]
    }
   ],
   "source": [
    "lists=[1,2,3]\n",
    "print(lists)"
   ]
  },
  {
   "cell_type": "code",
   "execution_count": 9,
   "id": "80ded9fa-70fe-46cf-bcca-2c0295a32898",
   "metadata": {},
   "outputs": [
    {
     "data": {
      "text/plain": [
       "[1, 2, 3, 4]"
      ]
     },
     "execution_count": 9,
     "metadata": {},
     "output_type": "execute_result"
    }
   ],
   "source": [
    "lists.append(4)\n",
    "lists"
   ]
  },
  {
   "cell_type": "code",
   "execution_count": 10,
   "id": "4ed5a4e1-54d1-414f-8111-2980439bc525",
   "metadata": {},
   "outputs": [
    {
     "data": {
      "text/plain": [
       "{12, 36, 84}"
      ]
     },
     "execution_count": 10,
     "metadata": {},
     "output_type": "execute_result"
    }
   ],
   "source": [
    "sets={12,36,84}\n",
    "sets"
   ]
  },
  {
   "cell_type": "code",
   "execution_count": 11,
   "id": "36b37d74-9daa-43e8-bc9a-a376fb28cce8",
   "metadata": {},
   "outputs": [
    {
     "data": {
      "text/plain": [
       "(1, 2, 3)"
      ]
     },
     "execution_count": 11,
     "metadata": {},
     "output_type": "execute_result"
    }
   ],
   "source": [
    "tuples=(1,2,3)\n",
    "tuples"
   ]
  },
  {
   "cell_type": "code",
   "execution_count": 12,
   "id": "d16124aa-9964-4f4e-9b62-6e3aad94d782",
   "metadata": {},
   "outputs": [
    {
     "data": {
      "text/plain": [
       "{'a': '1', 'b': '2', 'c': '3'}"
      ]
     },
     "execution_count": 12,
     "metadata": {},
     "output_type": "execute_result"
    }
   ],
   "source": [
    "dic={'a':'1','b':'2','c':'3'}\n",
    "dic"
   ]
  },
  {
   "cell_type": "code",
   "execution_count": 16,
   "id": "683828cb-6d1b-4def-9343-a508171e4c1b",
   "metadata": {},
   "outputs": [
    {
     "data": {
      "text/plain": [
       "{'a': '1', 'b': '2', 'c': '3', 'd': '4'}"
      ]
     },
     "execution_count": 16,
     "metadata": {},
     "output_type": "execute_result"
    }
   ],
   "source": [
    "dic['d']='4'\n",
    "dic"
   ]
  }
 ],
 "metadata": {
  "kernelspec": {
   "display_name": "Python 3 (ipykernel)",
   "language": "python",
   "name": "python3"
  },
  "language_info": {
   "codemirror_mode": {
    "name": "ipython",
    "version": 3
   },
   "file_extension": ".py",
   "mimetype": "text/x-python",
   "name": "python",
   "nbconvert_exporter": "python",
   "pygments_lexer": "ipython3",
   "version": "3.12.7"
  }
 },
 "nbformat": 4,
 "nbformat_minor": 5
}
